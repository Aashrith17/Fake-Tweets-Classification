{
  "nbformat": 4,
  "nbformat_minor": 0,
  "metadata": {
    "colab": {
      "provenance": []
    },
    "kernelspec": {
      "name": "python3",
      "display_name": "Python 3"
    },
    "accelerator": "GPU"
  },
  "cells": [
    {
      "cell_type": "markdown",
      "metadata": {
        "id": "NUWTI2kII0xB"
      },
      "source": [
        "# **Disaster Tweet Classification**\n",
        "\n"
      ]
    },
    {
      "cell_type": "code",
      "metadata": {
        "id": "6Uu9dnNJuzk3"
      },
      "source": [
        "!pip install ktrain==0.7.1\n",
        "!pip install tensorflow==2.1.0"
      ],
      "execution_count": null,
      "outputs": []
    },
    {
      "cell_type": "markdown",
      "metadata": {
        "id": "zQgG37TuJNdv"
      },
      "source": [
        "### Importing Libraries\n"
      ]
    },
    {
      "cell_type": "code",
      "metadata": {
        "id": "FWMcWRscfxzr"
      },
      "source": [
        "from sklearn.model_selection import train_test_split\n",
        "import ktrain\n",
        "from ktrain import text\n",
        "import pandas as pd"
      ],
      "execution_count": null,
      "outputs": []
    },
    {
      "cell_type": "markdown",
      "metadata": {
        "id": "n2xmIdIzr6Qt"
      },
      "source": [
        "### Reading training file"
      ]
    },
    {
      "cell_type": "code",
      "metadata": {
        "id": "bGyFlT3aBe9R"
      },
      "source": [
        "train_df = pd.read_csv(\"train.csv\")"
      ],
      "execution_count": null,
      "outputs": []
    },
    {
      "cell_type": "code",
      "metadata": {
        "id": "8mS_Z3CFSxyD",
        "colab": {
          "base_uri": "https://localhost:8080/",
          "height": 206
        },
        "outputId": "68136334-24c8-44d7-a73f-95836e868ed5"
      },
      "source": [
        "train_df.head()"
      ],
      "execution_count": null,
      "outputs": [
        {
          "output_type": "execute_result",
          "data": {
            "text/plain": [
              "   id keyword location                                               text  \\\n",
              "0   1     NaN      NaN  Our Deeds are the Reason of this #earthquake M...   \n",
              "1   4     NaN      NaN             Forest fire near La Ronge Sask. Canada   \n",
              "2   5     NaN      NaN  All residents asked to 'shelter in place' are ...   \n",
              "3   6     NaN      NaN  13,000 people receive #wildfires evacuation or...   \n",
              "4   7     NaN      NaN  Just got sent this photo from Ruby #Alaska as ...   \n",
              "\n",
              "   target  \n",
              "0       1  \n",
              "1       1  \n",
              "2       1  \n",
              "3       1  \n",
              "4       1  "
            ],
            "text/html": [
              "\n",
              "  <div id=\"df-ee03fab3-465b-4d2c-ade7-698360287baa\">\n",
              "    <div class=\"colab-df-container\">\n",
              "      <div>\n",
              "<style scoped>\n",
              "    .dataframe tbody tr th:only-of-type {\n",
              "        vertical-align: middle;\n",
              "    }\n",
              "\n",
              "    .dataframe tbody tr th {\n",
              "        vertical-align: top;\n",
              "    }\n",
              "\n",
              "    .dataframe thead th {\n",
              "        text-align: right;\n",
              "    }\n",
              "</style>\n",
              "<table border=\"1\" class=\"dataframe\">\n",
              "  <thead>\n",
              "    <tr style=\"text-align: right;\">\n",
              "      <th></th>\n",
              "      <th>id</th>\n",
              "      <th>keyword</th>\n",
              "      <th>location</th>\n",
              "      <th>text</th>\n",
              "      <th>target</th>\n",
              "    </tr>\n",
              "  </thead>\n",
              "  <tbody>\n",
              "    <tr>\n",
              "      <th>0</th>\n",
              "      <td>1</td>\n",
              "      <td>NaN</td>\n",
              "      <td>NaN</td>\n",
              "      <td>Our Deeds are the Reason of this #earthquake M...</td>\n",
              "      <td>1</td>\n",
              "    </tr>\n",
              "    <tr>\n",
              "      <th>1</th>\n",
              "      <td>4</td>\n",
              "      <td>NaN</td>\n",
              "      <td>NaN</td>\n",
              "      <td>Forest fire near La Ronge Sask. Canada</td>\n",
              "      <td>1</td>\n",
              "    </tr>\n",
              "    <tr>\n",
              "      <th>2</th>\n",
              "      <td>5</td>\n",
              "      <td>NaN</td>\n",
              "      <td>NaN</td>\n",
              "      <td>All residents asked to 'shelter in place' are ...</td>\n",
              "      <td>1</td>\n",
              "    </tr>\n",
              "    <tr>\n",
              "      <th>3</th>\n",
              "      <td>6</td>\n",
              "      <td>NaN</td>\n",
              "      <td>NaN</td>\n",
              "      <td>13,000 people receive #wildfires evacuation or...</td>\n",
              "      <td>1</td>\n",
              "    </tr>\n",
              "    <tr>\n",
              "      <th>4</th>\n",
              "      <td>7</td>\n",
              "      <td>NaN</td>\n",
              "      <td>NaN</td>\n",
              "      <td>Just got sent this photo from Ruby #Alaska as ...</td>\n",
              "      <td>1</td>\n",
              "    </tr>\n",
              "  </tbody>\n",
              "</table>\n",
              "</div>\n",
              "      <button class=\"colab-df-convert\" onclick=\"convertToInteractive('df-ee03fab3-465b-4d2c-ade7-698360287baa')\"\n",
              "              title=\"Convert this dataframe to an interactive table.\"\n",
              "              style=\"display:none;\">\n",
              "        \n",
              "  <svg xmlns=\"http://www.w3.org/2000/svg\" height=\"24px\"viewBox=\"0 0 24 24\"\n",
              "       width=\"24px\">\n",
              "    <path d=\"M0 0h24v24H0V0z\" fill=\"none\"/>\n",
              "    <path d=\"M18.56 5.44l.94 2.06.94-2.06 2.06-.94-2.06-.94-.94-2.06-.94 2.06-2.06.94zm-11 1L8.5 8.5l.94-2.06 2.06-.94-2.06-.94L8.5 2.5l-.94 2.06-2.06.94zm10 10l.94 2.06.94-2.06 2.06-.94-2.06-.94-.94-2.06-.94 2.06-2.06.94z\"/><path d=\"M17.41 7.96l-1.37-1.37c-.4-.4-.92-.59-1.43-.59-.52 0-1.04.2-1.43.59L10.3 9.45l-7.72 7.72c-.78.78-.78 2.05 0 2.83L4 21.41c.39.39.9.59 1.41.59.51 0 1.02-.2 1.41-.59l7.78-7.78 2.81-2.81c.8-.78.8-2.07 0-2.86zM5.41 20L4 18.59l7.72-7.72 1.47 1.35L5.41 20z\"/>\n",
              "  </svg>\n",
              "      </button>\n",
              "      \n",
              "  <style>\n",
              "    .colab-df-container {\n",
              "      display:flex;\n",
              "      flex-wrap:wrap;\n",
              "      gap: 12px;\n",
              "    }\n",
              "\n",
              "    .colab-df-convert {\n",
              "      background-color: #E8F0FE;\n",
              "      border: none;\n",
              "      border-radius: 50%;\n",
              "      cursor: pointer;\n",
              "      display: none;\n",
              "      fill: #1967D2;\n",
              "      height: 32px;\n",
              "      padding: 0 0 0 0;\n",
              "      width: 32px;\n",
              "    }\n",
              "\n",
              "    .colab-df-convert:hover {\n",
              "      background-color: #E2EBFA;\n",
              "      box-shadow: 0px 1px 2px rgba(60, 64, 67, 0.3), 0px 1px 3px 1px rgba(60, 64, 67, 0.15);\n",
              "      fill: #174EA6;\n",
              "    }\n",
              "\n",
              "    [theme=dark] .colab-df-convert {\n",
              "      background-color: #3B4455;\n",
              "      fill: #D2E3FC;\n",
              "    }\n",
              "\n",
              "    [theme=dark] .colab-df-convert:hover {\n",
              "      background-color: #434B5C;\n",
              "      box-shadow: 0px 1px 3px 1px rgba(0, 0, 0, 0.15);\n",
              "      filter: drop-shadow(0px 1px 2px rgba(0, 0, 0, 0.3));\n",
              "      fill: #FFFFFF;\n",
              "    }\n",
              "  </style>\n",
              "\n",
              "      <script>\n",
              "        const buttonEl =\n",
              "          document.querySelector('#df-ee03fab3-465b-4d2c-ade7-698360287baa button.colab-df-convert');\n",
              "        buttonEl.style.display =\n",
              "          google.colab.kernel.accessAllowed ? 'block' : 'none';\n",
              "\n",
              "        async function convertToInteractive(key) {\n",
              "          const element = document.querySelector('#df-ee03fab3-465b-4d2c-ade7-698360287baa');\n",
              "          const dataTable =\n",
              "            await google.colab.kernel.invokeFunction('convertToInteractive',\n",
              "                                                     [key], {});\n",
              "          if (!dataTable) return;\n",
              "\n",
              "          const docLinkHtml = 'Like what you see? Visit the ' +\n",
              "            '<a target=\"_blank\" href=https://colab.research.google.com/notebooks/data_table.ipynb>data table notebook</a>'\n",
              "            + ' to learn more about interactive tables.';\n",
              "          element.innerHTML = '';\n",
              "          dataTable['output_type'] = 'display_data';\n",
              "          await google.colab.output.renderOutput(dataTable, element);\n",
              "          const docLink = document.createElement('div');\n",
              "          docLink.innerHTML = docLinkHtml;\n",
              "          element.appendChild(docLink);\n",
              "        }\n",
              "      </script>\n",
              "    </div>\n",
              "  </div>\n",
              "  "
            ]
          },
          "metadata": {},
          "execution_count": 5
        }
      ]
    },
    {
      "cell_type": "markdown",
      "metadata": {
        "id": "vdM0B0Qah7F-"
      },
      "source": [
        "### Splitting training data in to training and validation data"
      ]
    },
    {
      "cell_type": "code",
      "metadata": {
        "id": "wyO3msPQgx19",
        "colab": {
          "base_uri": "https://localhost:8080/"
        },
        "outputId": "6e80ea33-f573-45e1-a0a8-48ca66329004"
      },
      "source": [
        "random_seed = 12342\n",
        "x_train, x_val, y_train, y_val = train_test_split(train_df['text'], train_df['target'], shuffle=True, test_size = 0.2, random_state=random_seed, stratify=train_df['target'])"
      ],
      "execution_count": null,
      "outputs": [
        {
          "output_type": "stream",
          "name": "stderr",
          "text": [
            "/usr/local/lib/python3.7/dist-packages/sklearn/utils/__init__.py:806: DeprecationWarning: `np.int` is a deprecated alias for the builtin `int`. To silence this warning, use `int` by itself. Doing this will not modify any behavior and is safe. When replacing `np.int`, you may wish to use e.g. `np.int64` or `np.int32` to specify the precision. If you wish to review your current use, check the release note link for additional information.\n",
            "Deprecated in NumPy 1.20; for more details and guidance: https://numpy.org/devdocs/release/1.20.0-notes.html#deprecations\n",
            "  return floored.astype(np.int)\n",
            "/usr/local/lib/python3.7/dist-packages/sklearn/utils/__init__.py:806: DeprecationWarning: `np.int` is a deprecated alias for the builtin `int`. To silence this warning, use `int` by itself. Doing this will not modify any behavior and is safe. When replacing `np.int`, you may wish to use e.g. `np.int64` or `np.int32` to specify the precision. If you wish to review your current use, check the release note link for additional information.\n",
            "Deprecated in NumPy 1.20; for more details and guidance: https://numpy.org/devdocs/release/1.20.0-notes.html#deprecations\n",
            "  return floored.astype(np.int)\n"
          ]
        }
      ]
    },
    {
      "cell_type": "markdown",
      "metadata": {
        "id": "BteMwVZ0LrEN"
      },
      "source": [
        "### Convert data to features for BERT"
      ]
    },
    {
      "cell_type": "code",
      "metadata": {
        "id": "JK6GHUaIvgfG",
        "colab": {
          "base_uri": "https://localhost:8080/",
          "height": 270
        },
        "outputId": "c1e3e23a-fece-4067-bf58-0f1bcf812976"
      },
      "source": [
        "(x_train_bert,  y_train_bert), (x_val_bert, y_val_bert), preproc = text.texts_from_array(x_train=x_train, y_train=y_train,\n",
        "                                                                                         x_test = x_val, y_test=y_val,\n",
        "                                                                                          class_names= [\"0\", \"1\"],\n",
        "                                                                                          preprocess_mode='bert',\n",
        "                                                                                          lang = 'en',\n",
        "                                                                                          maxlen=65,\n",
        "                                                                                          max_features=35000)"
      ],
      "execution_count": null,
      "outputs": [
        {
          "output_type": "stream",
          "name": "stdout",
          "text": [
            "downloading pretrained BERT model (uncased_L-12_H-768_A-12.zip)...\n",
            "[██████████████████████████████████████████████████]\n",
            "extracting pretrained BERT model...\n",
            "done.\n",
            "\n",
            "cleanup downloaded zip...\n",
            "done.\n",
            "\n",
            "preprocessing train...\n",
            "language: en\n"
          ]
        },
        {
          "output_type": "display_data",
          "data": {
            "text/plain": [
              "<IPython.core.display.HTML object>"
            ],
            "text/html": [
              "\n",
              "<style>\n",
              "    /* Turns off some styling */\n",
              "    progress {\n",
              "        /* gets rid of default border in Firefox and Opera. */\n",
              "        border: none;\n",
              "        /* Needs to be in here for Safari polyfill so background images work as expected. */\n",
              "        background-size: auto;\n",
              "    }\n",
              "    .progress-bar-interrupted, .progress-bar-interrupted::-webkit-progress-bar {\n",
              "        background: #F44336;\n",
              "    }\n",
              "</style>\n"
            ]
          },
          "metadata": {}
        },
        {
          "output_type": "display_data",
          "data": {
            "text/plain": [
              "<IPython.core.display.HTML object>"
            ],
            "text/html": [
              "done."
            ]
          },
          "metadata": {}
        },
        {
          "output_type": "stream",
          "name": "stdout",
          "text": [
            "preprocessing test...\n",
            "language: en\n"
          ]
        },
        {
          "output_type": "display_data",
          "data": {
            "text/plain": [
              "<IPython.core.display.HTML object>"
            ],
            "text/html": [
              "\n",
              "<style>\n",
              "    /* Turns off some styling */\n",
              "    progress {\n",
              "        /* gets rid of default border in Firefox and Opera. */\n",
              "        border: none;\n",
              "        /* Needs to be in here for Safari polyfill so background images work as expected. */\n",
              "        background-size: auto;\n",
              "    }\n",
              "    .progress-bar-interrupted, .progress-bar-interrupted::-webkit-progress-bar {\n",
              "        background: #F44336;\n",
              "    }\n",
              "</style>\n"
            ]
          },
          "metadata": {}
        },
        {
          "output_type": "display_data",
          "data": {
            "text/plain": [
              "<IPython.core.display.HTML object>"
            ],
            "text/html": [
              "done."
            ]
          },
          "metadata": {}
        }
      ]
    },
    {
      "cell_type": "markdown",
      "metadata": {
        "id": "P8QVEFWjMINC"
      },
      "source": [
        "### Create Model Instance and train it for around 6 epochs\n",
        "\n"
      ]
    },
    {
      "cell_type": "code",
      "metadata": {
        "id": "yTMcG_I2vzsw",
        "colab": {
          "base_uri": "https://localhost:8080/"
        },
        "outputId": "7291bf49-fba3-4be0-d5ee-29eb7c08c05a"
      },
      "source": [
        "model = text.text_classifier('bert', train_data=(x_train_bert, y_train_bert), preproc=preproc)\n",
        "learner = ktrain.get_learner(model, train_data=(x_train_bert, y_train_bert), val_data=(x_val_bert, y_val_bert), batch_size=16)"
      ],
      "execution_count": null,
      "outputs": [
        {
          "output_type": "stream",
          "name": "stdout",
          "text": [
            "Is Multi-Label? False\n",
            "maxlen is 65\n",
            "done.\n"
          ]
        }
      ]
    },
    {
      "cell_type": "code",
      "metadata": {
        "id": "nwkt6BsTB-U-",
        "colab": {
          "base_uri": "https://localhost:8080/"
        },
        "outputId": "bfc60697-609c-4d4c-ea4d-b832d277eed4"
      },
      "source": [
        "learner.lr_find()             # briefly simulate training to find good learning rate\n"
      ],
      "execution_count": null,
      "outputs": [
        {
          "output_type": "stream",
          "name": "stdout",
          "text": [
            "simulating training for different learning rates... this may take a few moments...\n",
            "Train on 6090 samples\n",
            "Epoch 1/1024\n",
            "6090/6090 [==============================] - 184s 30ms/sample - loss: 0.6132 - acc: 0.6639\n",
            "Epoch 2/1024\n",
            "6090/6090 [==============================] - 178s 29ms/sample - loss: 0.4686 - acc: 0.7967\n",
            "Epoch 3/1024\n",
            "6090/6090 [==============================] - 178s 29ms/sample - loss: 0.8128 - acc: 0.5248\n",
            "Epoch 4/1024\n",
            " 656/6090 [==>...........................] - ETA: 2:39 - loss: 1.7589 - acc: 0.5198\n",
            "\n",
            "done.\n",
            "Please invoke the Learner.lr_plot() method to visually inspect the loss plot to help identify the maximal learning rate associated with falling loss.\n"
          ]
        }
      ]
    },
    {
      "cell_type": "code",
      "metadata": {
        "id": "cWPmoEOPEg9K",
        "colab": {
          "base_uri": "https://localhost:8080/",
          "height": 283
        },
        "outputId": "60a3c355-80a6-4d13-f573-6acbf710de88"
      },
      "source": [
        "learner.lr_plot()"
      ],
      "execution_count": null,
      "outputs": [
        {
          "output_type": "display_data",
          "data": {
            "text/plain": [
              "<Figure size 432x288 with 1 Axes>"
            ],
            "image/png": "[encoded data removed]"
          },
          "metadata": {
            "needs_background": "light"
          }
        }
      ]
    },
    {
      "cell_type": "code",
      "metadata": {
        "id": "-6HqzgLDBd09",
        "colab": {
          "base_uri": "https://localhost:8080/"
        },
        "outputId": "24c046ce-b1a2-4e36-9ae9-884d5889a857"
      },
      "source": [
        "learner.autofit(1e-5)"
      ],
      "execution_count": null,
      "outputs": [
        {
          "output_type": "stream",
          "name": "stdout",
          "text": [
            "early_stopping automatically enabled at patience=5\n",
            "reduce_on_plateau automatically enabled at patience=2\n",
            "\n",
            "\n",
            "begin training using triangular learning rate policy with max lr of 1e-05...\n",
            "Train on 6090 samples, validate on 1523 samples\n",
            "Epoch 1/1024\n",
            "6090/6090 [==============================] - 197s 32ms/sample - loss: 0.4746 - acc: 0.7762 - val_loss: 0.3762 - val_acc: 0.8437\n",
            "Epoch 2/1024\n",
            "6090/6090 [==============================] - 194s 32ms/sample - loss: 0.3486 - acc: 0.8606 - val_loss: 0.3877 - val_acc: 0.8365\n",
            "Epoch 3/1024\n",
            "6080/6090 [============================>.] - ETA: 0s - loss: 0.2893 - acc: 0.8911\n",
            "Epoch 00003: Reducing Max LR on Plateau: new max lr will be 5e-06 (if not early_stopping).\n",
            "6090/6090 [==============================] - 194s 32ms/sample - loss: 0.2893 - acc: 0.8911 - val_loss: 0.4001 - val_acc: 0.8365\n",
            "Epoch 4/1024\n",
            "6090/6090 [==============================] - 194s 32ms/sample - loss: 0.2243 - acc: 0.9192 - val_loss: 0.4530 - val_acc: 0.8345\n",
            "Epoch 5/1024\n",
            "6080/6090 [============================>.] - ETA: 0s - loss: 0.1939 - acc: 0.9340\n",
            "Epoch 00005: Reducing Max LR on Plateau: new max lr will be 2.5e-06 (if not early_stopping).\n",
            "6090/6090 [==============================] - 194s 32ms/sample - loss: 0.1940 - acc: 0.9340 - val_loss: 0.4708 - val_acc: 0.8313\n",
            "Epoch 6/1024\n",
            "6080/6090 [============================>.] - ETA: 0s - loss: 0.1587 - acc: 0.9469Restoring model weights from the end of the best epoch.\n",
            "6090/6090 [==============================] - 195s 32ms/sample - loss: 0.1585 - acc: 0.9470 - val_loss: 0.5138 - val_acc: 0.8221\n",
            "Epoch 00006: early stopping\n",
            "Weights from best epoch have been loaded into model.\n"
          ]
        },
        {
          "output_type": "execute_result",
          "data": {
            "text/plain": [
              "<tensorflow.python.keras.callbacks.History at 0x7f95e3858f10>"
            ]
          },
          "metadata": {},
          "execution_count": 11
        }
      ]
    },
    {
      "cell_type": "code",
      "metadata": {
        "id": "gebvrQ5kjE_o",
        "colab": {
          "base_uri": "https://localhost:8080/"
        },
        "outputId": "946001c6-c3da-4fb6-e1dc-4d217977b2fb"
      },
      "source": [
        "learner.validate(val_data=(x_val_bert, y_val_bert), class_names=['No Disaster', 'Disaster'])"
      ],
      "execution_count": null,
      "outputs": [
        {
          "output_type": "stream",
          "name": "stdout",
          "text": [
            "              precision    recall  f1-score   support\n",
            "\n",
            " No Disaster       0.84      0.90      0.87       869\n",
            "    Disaster       0.85      0.77      0.81       654\n",
            "\n",
            "    accuracy                           0.84      1523\n",
            "   macro avg       0.85      0.83      0.84      1523\n",
            "weighted avg       0.84      0.84      0.84      1523\n",
            "\n"
          ]
        },
        {
          "output_type": "execute_result",
          "data": {
            "text/plain": [
              "array([[781,  88],\n",
              "       [150, 504]])"
            ]
          },
          "metadata": {},
          "execution_count": 12
        }
      ]
    },
    {
      "cell_type": "markdown",
      "metadata": {
        "id": "3OFnCIH2wKpE"
      },
      "source": [
        "### Getting predictor variable"
      ]
    },
    {
      "cell_type": "code",
      "metadata": {
        "id": "HLxfR9mPwV7K"
      },
      "source": [
        "# getting predictor variable\n",
        "predictor = ktrain.get_predictor(learner.model, preproc)"
      ],
      "execution_count": null,
      "outputs": []
    },
    {
      "cell_type": "code",
      "metadata": {
        "id": "4_voYwZG8JOS",
        "colab": {
          "base_uri": "https://localhost:8080/"
        },
        "outputId": "5641a6fd-4a5d-400f-982b-a531a8588648"
      },
      "source": [
        "learner.print_layers()"
      ],
      "execution_count": null,
      "outputs": [
        {
          "output_type": "stream",
          "name": "stdout",
          "text": [
            "0 (trainable=True) : <tensorflow.python.keras.engine.input_layer.InputLayer object at 0x7f96453f4a50>\n",
            "1 (trainable=True) : <tensorflow.python.keras.engine.input_layer.InputLayer object at 0x7f9645b72c50>\n",
            "2 (trainable=True) : <keras_bert.layers.embedding.TokenEmbedding object at 0x7f96453f4990>\n",
            "3 (trainable=True) : <tensorflow.python.keras.layers.embeddings.Embedding object at 0x7f964539d390>\n",
            "4 (trainable=True) : <tensorflow.python.keras.layers.merge.Add object at 0x7f96461ed550>\n",
            "5 (trainable=True) : <keras_pos_embd.pos_embd.PositionEmbedding object at 0x7f96453bd090>\n",
            "6 (trainable=True) : <tensorflow.python.keras.layers.core.Dropout object at 0x7f9645369c10>\n",
            "7 (trainable=True) : <keras_layer_normalization.layer_normalization.LayerNormalization object at 0x7f9644a232d0>\n",
            "8 (trainable=True) : <keras_multi_head.multi_head_attention.MultiHeadAttention object at 0x7f9644a1e3d0>\n",
            "9 (trainable=True) : <tensorflow.python.keras.layers.core.Dropout object at 0x7f96449d1b50>\n",
            "10 (trainable=True) : <tensorflow.python.keras.layers.merge.Add object at 0x7f9645369f90>\n",
            "11 (trainable=True) : <keras_layer_normalization.layer_normalization.LayerNormalization object at 0x7f964495f850>\n",
            "12 (trainable=True) : <keras_position_wise_feed_forward.feed_forward.FeedForward object at 0x7f9646c7c3d0>\n",
            "13 (trainable=True) : <tensorflow.python.keras.layers.core.Dropout object at 0x7f9644a3edd0>\n",
            "14 (trainable=True) : <tensorflow.python.keras.layers.merge.Add object at 0x7f964499b550>\n",
            "15 (trainable=True) : <keras_layer_normalization.layer_normalization.LayerNormalization object at 0x7f9644a9f510>\n",
            "16 (trainable=True) : <keras_multi_head.multi_head_attention.MultiHeadAttention object at 0x7f96453a4b90>\n",
            "17 (trainable=True) : <tensorflow.python.keras.layers.core.Dropout object at 0x7f96447d6310>\n",
            "18 (trainable=True) : <tensorflow.python.keras.layers.merge.Add object at 0x7f96449c2d10>\n",
            "19 (trainable=True) : <keras_layer_normalization.layer_normalization.LayerNormalization object at 0x7f96448ad290>\n",
            "20 (trainable=True) : <keras_position_wise_feed_forward.feed_forward.FeedForward object at 0x7f9644a9ffd0>\n",
            "21 (trainable=True) : <tensorflow.python.keras.layers.core.Dropout object at 0x7f96448dfe90>\n",
            "22 (trainable=True) : <tensorflow.python.keras.layers.merge.Add object at 0x7f96448b1d10>\n",
            "23 (trainable=True) : <keras_layer_normalization.layer_normalization.LayerNormalization object at 0x7f9644966a10>\n",
            "24 (trainable=True) : <keras_multi_head.multi_head_attention.MultiHeadAttention object at 0x7f9644950310>\n",
            "25 (trainable=True) : <tensorflow.python.keras.layers.core.Dropout object at 0x7f9644a67690>\n",
            "26 (trainable=True) : <tensorflow.python.keras.layers.merge.Add object at 0x7f964487ca90>\n",
            "27 (trainable=True) : <keras_layer_normalization.layer_normalization.LayerNormalization object at 0x7f9644852810>\n",
            "28 (trainable=True) : <keras_position_wise_feed_forward.feed_forward.FeedForward object at 0x7f96448ff9d0>\n",
            "29 (trainable=True) : <tensorflow.python.keras.layers.core.Dropout object at 0x7f964471bc50>\n",
            "30 (trainable=True) : <tensorflow.python.keras.layers.merge.Add object at 0x7f9644708410>\n",
            "31 (trainable=True) : <keras_layer_normalization.layer_normalization.LayerNormalization object at 0x7f964470f390>\n",
            "32 (trainable=True) : <keras_multi_head.multi_head_attention.MultiHeadAttention object at 0x7f96446dc0d0>\n",
            "33 (trainable=True) : <tensorflow.python.keras.layers.core.Dropout object at 0x7f96446eadd0>\n",
            "34 (trainable=True) : <tensorflow.python.keras.layers.merge.Add object at 0x7f9644b24550>\n",
            "35 (trainable=True) : <keras_layer_normalization.layer_normalization.LayerNormalization object at 0x7f96446e14d0>\n",
            "36 (trainable=True) : <keras_position_wise_feed_forward.feed_forward.FeedForward object at 0x7f964470f250>\n",
            "37 (trainable=True) : <tensorflow.python.keras.layers.core.Dropout object at 0x7f96445ce650>\n",
            "38 (trainable=True) : <tensorflow.python.keras.layers.merge.Add object at 0x7f9644a2e610>\n",
            "39 (trainable=True) : <keras_layer_normalization.layer_normalization.LayerNormalization object at 0x7f96445c6550>\n",
            "40 (trainable=True) : <keras_multi_head.multi_head_attention.MultiHeadAttention object at 0x7f9644a30350>\n",
            "41 (trainable=True) : <tensorflow.python.keras.layers.core.Dropout object at 0x7f96445aea50>\n",
            "42 (trainable=True) : <tensorflow.python.keras.layers.merge.Add object at 0x7f96445b3ed0>\n",
            "43 (trainable=True) : <keras_layer_normalization.layer_normalization.LayerNormalization object at 0x7f964459a150>\n",
            "44 (trainable=True) : <keras_position_wise_feed_forward.feed_forward.FeedForward object at 0x7f9644999750>\n",
            "45 (trainable=True) : <tensorflow.python.keras.layers.core.Dropout object at 0x7f964448f3d0>\n",
            "46 (trainable=True) : <tensorflow.python.keras.layers.merge.Add object at 0x7f9644488ad0>\n",
            "47 (trainable=True) : <keras_layer_normalization.layer_normalization.LayerNormalization object at 0x7f9644488b90>\n",
            "48 (trainable=True) : <keras_multi_head.multi_head_attention.MultiHeadAttention object at 0x7f96444521d0>\n",
            "49 (trainable=True) : <tensorflow.python.keras.layers.core.Dropout object at 0x7f9644470c90>\n",
            "50 (trainable=True) : <tensorflow.python.keras.layers.merge.Add object at 0x7f9644479510>\n",
            "51 (trainable=True) : <keras_layer_normalization.layer_normalization.LayerNormalization object at 0x7f964445e050>\n",
            "52 (trainable=True) : <keras_position_wise_feed_forward.feed_forward.FeedForward object at 0x7f9644488c10>\n",
            "53 (trainable=True) : <tensorflow.python.keras.layers.core.Dropout object at 0x7f964434ee10>\n",
            "54 (trainable=True) : <tensorflow.python.keras.layers.merge.Add object at 0x7f964538a5d0>\n",
            "55 (trainable=True) : <keras_layer_normalization.layer_normalization.LayerNormalization object at 0x7f9644343510>\n",
            "56 (trainable=True) : <keras_multi_head.multi_head_attention.MultiHeadAttention object at 0x7f9644311a90>\n",
            "57 (trainable=True) : <tensorflow.python.keras.layers.core.Dropout object at 0x7f9644a677d0>\n",
            "58 (trainable=True) : <tensorflow.python.keras.layers.merge.Add object at 0x7f964433a450>\n",
            "59 (trainable=True) : <keras_layer_normalization.layer_normalization.LayerNormalization object at 0x7f964431a690>\n",
            "60 (trainable=True) : <keras_position_wise_feed_forward.feed_forward.FeedForward object at 0x7f9644343450>\n",
            "61 (trainable=True) : <tensorflow.python.keras.layers.core.Dropout object at 0x7f9644204410>\n",
            "62 (trainable=True) : <tensorflow.python.keras.layers.merge.Add object at 0x7f964427ca50>\n",
            "63 (trainable=True) : <keras_layer_normalization.layer_normalization.LayerNormalization object at 0x7f964427cb10>\n",
            "64 (trainable=True) : <keras_multi_head.multi_head_attention.MultiHeadAttention object at 0x7f96441ce150>\n",
            "65 (trainable=True) : <tensorflow.python.keras.layers.core.Dropout object at 0x7f9644183750>\n",
            "66 (trainable=True) : <tensorflow.python.keras.layers.merge.Add object at 0x7f96441da690>\n",
            "67 (trainable=True) : <keras_layer_normalization.layer_normalization.LayerNormalization object at 0x7f96441d4e50>\n",
            "68 (trainable=True) : <keras_position_wise_feed_forward.feed_forward.FeedForward object at 0x7f964427cb90>\n",
            "69 (trainable=True) : <tensorflow.python.keras.layers.core.Dropout object at 0x7f96440cd710>\n",
            "70 (trainable=True) : <tensorflow.python.keras.layers.merge.Add object at 0x7f9644afbad0>\n",
            "71 (trainable=True) : <keras_layer_normalization.layer_normalization.LayerNormalization object at 0x7f96440c6dd0>\n",
            "72 (trainable=True) : <keras_multi_head.multi_head_attention.MultiHeadAttention object at 0x7f96448adfd0>\n",
            "73 (trainable=True) : <tensorflow.python.keras.layers.core.Dropout object at 0x7f96440b9f90>\n",
            "74 (trainable=True) : <tensorflow.python.keras.layers.merge.Add object at 0x7f9644887a50>\n",
            "75 (trainable=True) : <keras_layer_normalization.layer_normalization.LayerNormalization object at 0x7f964409c810>\n",
            "76 (trainable=True) : <keras_position_wise_feed_forward.feed_forward.FeedForward object at 0x7f96440c6f10>\n",
            "77 (trainable=True) : <tensorflow.python.keras.layers.core.Dropout object at 0x7f9643f87ed0>\n",
            "78 (trainable=True) : <tensorflow.python.keras.layers.merge.Add object at 0x7f9643f8fc10>\n",
            "79 (trainable=True) : <keras_layer_normalization.layer_normalization.LayerNormalization object at 0x7f9643ffae50>\n",
            "80 (trainable=True) : <keras_multi_head.multi_head_attention.MultiHeadAttention object at 0x7f9643f4c390>\n",
            "81 (trainable=True) : <tensorflow.python.keras.layers.core.Dropout object at 0x7f9643f6db50>\n",
            "82 (trainable=True) : <tensorflow.python.keras.layers.merge.Add object at 0x7f9643f69e10>\n",
            "83 (trainable=True) : <keras_layer_normalization.layer_normalization.LayerNormalization object at 0x7f9643f5a1d0>\n",
            "84 (trainable=True) : <keras_position_wise_feed_forward.feed_forward.FeedForward object at 0x7f9643ffad50>\n",
            "85 (trainable=True) : <tensorflow.python.keras.layers.core.Dropout object at 0x7f9643e45490>\n",
            "86 (trainable=True) : <tensorflow.python.keras.layers.merge.Add object at 0x7f9643ebf610>\n",
            "87 (trainable=True) : <keras_layer_normalization.layer_normalization.LayerNormalization object at 0x7f9643ebf6d0>\n",
            "88 (trainable=True) : <keras_multi_head.multi_head_attention.MultiHeadAttention object at 0x7f9643e17d50>\n",
            "89 (trainable=True) : <tensorflow.python.keras.layers.core.Dropout object at 0x7f9643e38a10>\n",
            "90 (trainable=True) : <tensorflow.python.keras.layers.merge.Add object at 0x7f9643e3d710>\n",
            "91 (trainable=True) : <keras_layer_normalization.layer_normalization.LayerNormalization object at 0x7f9643e20a10>\n",
            "92 (trainable=True) : <keras_position_wise_feed_forward.feed_forward.FeedForward object at 0x7f9643ebf750>\n",
            "93 (trainable=True) : <tensorflow.python.keras.layers.core.Dropout object at 0x7f9643d0f950>\n",
            "94 (trainable=True) : <tensorflow.python.keras.layers.merge.Add object at 0x7f9643d15d50>\n",
            "95 (trainable=True) : <keras_layer_normalization.layer_normalization.LayerNormalization object at 0x7f9643d02f90>\n",
            "96 (trainable=True) : <keras_multi_head.multi_head_attention.MultiHeadAttention object at 0x7f9643d20f10>\n",
            "97 (trainable=True) : <tensorflow.python.keras.layers.core.Dropout object at 0x7f9643cf5f90>\n",
            "98 (trainable=True) : <tensorflow.python.keras.layers.merge.Add object at 0x7f9643ce9fd0>\n",
            "99 (trainable=True) : <keras_layer_normalization.layer_normalization.LayerNormalization object at 0x7f9643ce22d0>\n",
            "100 (trainable=True) : <keras_position_wise_feed_forward.feed_forward.FeedForward object at 0x7f9644a8fb50>\n",
            "101 (trainable=True) : <tensorflow.python.keras.layers.core.Dropout object at 0x7f9644ae8c90>\n",
            "102 (trainable=True) : <tensorflow.python.keras.layers.merge.Add object at 0x7f964539d990>\n",
            "103 (trainable=True) : <keras_layer_normalization.layer_normalization.LayerNormalization object at 0x7f96449e1150>\n",
            "104 (trainable=True) : <keras_bert.layers.extract.Extract object at 0x7f9643b463d0>\n",
            "105 (trainable=True) : <tensorflow.python.keras.layers.core.Dense object at 0x7f9643aa4610>\n",
            "106 (trainable=True) : <tensorflow.python.keras.layers.core.Dense object at 0x7f96436e0990>\n"
          ]
        }
      ]
    },
    {
      "cell_type": "markdown",
      "metadata": {
        "id": "6YD8qTRutzhL"
      },
      "source": [
        "### Getting predictions on test data"
      ]
    },
    {
      "cell_type": "code",
      "metadata": {
        "id": "ofq80LYrtp3M",
        "colab": {
          "base_uri": "https://localhost:8080/",
          "height": 17
        },
        "outputId": "12416d0a-b1a7-4e7e-86dd-c0f105fec165"
      },
      "source": [
        "test_df = pd.read_csv(\"test.csv\")\n",
        "test_df[\"target\"] = predictor.predict(test_df[\"text\"].tolist())\n",
        "\n",
        "test_df = test_df[[\"id\", \"target\"]]"
      ],
      "execution_count": null,
      "outputs": [
        {
          "output_type": "display_data",
          "data": {
            "text/plain": [
              "<IPython.core.display.HTML object>"
            ],
            "text/html": [
              "\n",
              "<style>\n",
              "    /* Turns off some styling */\n",
              "    progress {\n",
              "        /* gets rid of default border in Firefox and Opera. */\n",
              "        border: none;\n",
              "        /* Needs to be in here for Safari polyfill so background images work as expected. */\n",
              "        background-size: auto;\n",
              "    }\n",
              "    .progress-bar-interrupted, .progress-bar-interrupted::-webkit-progress-bar {\n",
              "        background: #F44336;\n",
              "    }\n",
              "</style>\n"
            ]
          },
          "metadata": {}
        },
        {
          "output_type": "display_data",
          "data": {
            "text/plain": [
              "<IPython.core.display.HTML object>"
            ],
            "text/html": [
              ""
            ]
          },
          "metadata": {}
        }
      ]
    },
    {
      "cell_type": "code",
      "metadata": {
        "id": "IKpDQGGUui6L",
        "colab": {
          "base_uri": "https://localhost:8080/",
          "height": 206
        },
        "outputId": "4e0ad75c-3944-4d4d-bb58-4f598548370f"
      },
      "source": [
        "test_df.head()"
      ],
      "execution_count": null,
      "outputs": [
        {
          "output_type": "execute_result",
          "data": {
            "text/plain": [
              "   id target\n",
              "0   0      1\n",
              "1   2      1\n",
              "2   3      1\n",
              "3   9      1\n",
              "4  11      1"
            ],
            "text/html": [
              "\n",
              "  <div id=\"df-8404a067-06ec-4068-8f48-98f5f60fc0de\">\n",
              "    <div class=\"colab-df-container\">\n",
              "      <div>\n",
              "<style scoped>\n",
              "    .dataframe tbody tr th:only-of-type {\n",
              "        vertical-align: middle;\n",
              "    }\n",
              "\n",
              "    .dataframe tbody tr th {\n",
              "        vertical-align: top;\n",
              "    }\n",
              "\n",
              "    .dataframe thead th {\n",
              "        text-align: right;\n",
              "    }\n",
              "</style>\n",
              "<table border=\"1\" class=\"dataframe\">\n",
              "  <thead>\n",
              "    <tr style=\"text-align: right;\">\n",
              "      <th></th>\n",
              "      <th>id</th>\n",
              "      <th>target</th>\n",
              "    </tr>\n",
              "  </thead>\n",
              "  <tbody>\n",
              "    <tr>\n",
              "      <th>0</th>\n",
              "      <td>0</td>\n",
              "      <td>1</td>\n",
              "    </tr>\n",
              "    <tr>\n",
              "      <th>1</th>\n",
              "      <td>2</td>\n",
              "      <td>1</td>\n",
              "    </tr>\n",
              "    <tr>\n",
              "      <th>2</th>\n",
              "      <td>3</td>\n",
              "      <td>1</td>\n",
              "    </tr>\n",
              "    <tr>\n",
              "      <th>3</th>\n",
              "      <td>9</td>\n",
              "      <td>1</td>\n",
              "    </tr>\n",
              "    <tr>\n",
              "      <th>4</th>\n",
              "      <td>11</td>\n",
              "      <td>1</td>\n",
              "    </tr>\n",
              "  </tbody>\n",
              "</table>\n",
              "</div>\n",
              "      <button class=\"colab-df-convert\" onclick=\"convertToInteractive('df-8404a067-06ec-4068-8f48-98f5f60fc0de')\"\n",
              "              title=\"Convert this dataframe to an interactive table.\"\n",
              "              style=\"display:none;\">\n",
              "        \n",
              "  <svg xmlns=\"http://www.w3.org/2000/svg\" height=\"24px\"viewBox=\"0 0 24 24\"\n",
              "       width=\"24px\">\n",
              "    <path d=\"M0 0h24v24H0V0z\" fill=\"none\"/>\n",
              "    <path d=\"M18.56 5.44l.94 2.06.94-2.06 2.06-.94-2.06-.94-.94-2.06-.94 2.06-2.06.94zm-11 1L8.5 8.5l.94-2.06 2.06-.94-2.06-.94L8.5 2.5l-.94 2.06-2.06.94zm10 10l.94 2.06.94-2.06 2.06-.94-2.06-.94-.94-2.06-.94 2.06-2.06.94z\"/><path d=\"M17.41 7.96l-1.37-1.37c-.4-.4-.92-.59-1.43-.59-.52 0-1.04.2-1.43.59L10.3 9.45l-7.72 7.72c-.78.78-.78 2.05 0 2.83L4 21.41c.39.39.9.59 1.41.59.51 0 1.02-.2 1.41-.59l7.78-7.78 2.81-2.81c.8-.78.8-2.07 0-2.86zM5.41 20L4 18.59l7.72-7.72 1.47 1.35L5.41 20z\"/>\n",
              "  </svg>\n",
              "      </button>\n",
              "      \n",
              "  <style>\n",
              "    .colab-df-container {\n",
              "      display:flex;\n",
              "      flex-wrap:wrap;\n",
              "      gap: 12px;\n",
              "    }\n",
              "\n",
              "    .colab-df-convert {\n",
              "      background-color: #E8F0FE;\n",
              "      border: none;\n",
              "      border-radius: 50%;\n",
              "      cursor: pointer;\n",
              "      display: none;\n",
              "      fill: #1967D2;\n",
              "      height: 32px;\n",
              "      padding: 0 0 0 0;\n",
              "      width: 32px;\n",
              "    }\n",
              "\n",
              "    .colab-df-convert:hover {\n",
              "      background-color: #E2EBFA;\n",
              "      box-shadow: 0px 1px 2px rgba(60, 64, 67, 0.3), 0px 1px 3px 1px rgba(60, 64, 67, 0.15);\n",
              "      fill: #174EA6;\n",
              "    }\n",
              "\n",
              "    [theme=dark] .colab-df-convert {\n",
              "      background-color: #3B4455;\n",
              "      fill: #D2E3FC;\n",
              "    }\n",
              "\n",
              "    [theme=dark] .colab-df-convert:hover {\n",
              "      background-color: #434B5C;\n",
              "      box-shadow: 0px 1px 3px 1px rgba(0, 0, 0, 0.15);\n",
              "      filter: drop-shadow(0px 1px 2px rgba(0, 0, 0, 0.3));\n",
              "      fill: #FFFFFF;\n",
              "    }\n",
              "  </style>\n",
              "\n",
              "      <script>\n",
              "        const buttonEl =\n",
              "          document.querySelector('#df-8404a067-06ec-4068-8f48-98f5f60fc0de button.colab-df-convert');\n",
              "        buttonEl.style.display =\n",
              "          google.colab.kernel.accessAllowed ? 'block' : 'none';\n",
              "\n",
              "        async function convertToInteractive(key) {\n",
              "          const element = document.querySelector('#df-8404a067-06ec-4068-8f48-98f5f60fc0de');\n",
              "          const dataTable =\n",
              "            await google.colab.kernel.invokeFunction('convertToInteractive',\n",
              "                                                     [key], {});\n",
              "          if (!dataTable) return;\n",
              "\n",
              "          const docLinkHtml = 'Like what you see? Visit the ' +\n",
              "            '<a target=\"_blank\" href=https://colab.research.google.com/notebooks/data_table.ipynb>data table notebook</a>'\n",
              "            + ' to learn more about interactive tables.';\n",
              "          element.innerHTML = '';\n",
              "          dataTable['output_type'] = 'display_data';\n",
              "          await google.colab.output.renderOutput(dataTable, element);\n",
              "          const docLink = document.createElement('div');\n",
              "          docLink.innerHTML = docLinkHtml;\n",
              "          element.appendChild(docLink);\n",
              "        }\n",
              "      </script>\n",
              "    </div>\n",
              "  </div>\n",
              "  "
            ]
          },
          "metadata": {},
          "execution_count": 17
        }
      ]
    },
    {
      "cell_type": "code",
      "metadata": {
        "id": "usXiCGlXulBm"
      },
      "source": [
        "test_df.to_csv(\"output.csv\", index=False)"
      ],
      "execution_count": null,
      "outputs": []
    },
    {
      "cell_type": "code",
      "source": [
        "import os\n",
        "os.getcwd()"
      ],
      "metadata": {
        "colab": {
          "base_uri": "https://localhost:8080/",
          "height": 35
        },
        "id": "wiUJ7G-dR8pa",
        "outputId": "cfdfc05e-5bb0-46a3-ba35-91c3c53d4759"
      },
      "execution_count": null,
      "outputs": [
        {
          "output_type": "execute_result",
          "data": {
            "text/plain": [
              "'/content'"
            ],
            "application/vnd.google.colaboratory.intrinsic+json": {
              "type": "string"
            }
          },
          "metadata": {},
          "execution_count": 20
        }
      ]
    },
    {
      "cell_type": "markdown",
      "source": [
        "**Conclusion**:\n",
        "1. Accuracy for machine\n",
        "2.\n",
        "3."
      ],
      "metadata": {
        "id": "d8Z0CWZHvdSi"
      }
    }
  ]
}