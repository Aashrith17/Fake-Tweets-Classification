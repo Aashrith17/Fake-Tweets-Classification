{
  "cells": [
    {
      "cell_type": "markdown",
      "metadata": {
        "id": "9TnJztDZGw-n"
      },
      "source": [
        "# Disaster Tweet Classification using RNN"
      ]
    },
    {
      "cell_type": "markdown",
      "metadata": {
        "id": "_2VQo4bajwUU"
      },
      "source": [
        "## Setup"
      ]
    },
    {
      "cell_type": "code",
      "execution_count": null,
      "metadata": {
        "execution": {
          "iopub.execute_input": "2021-11-02T15:50:32.600658Z",
          "iopub.status.busy": "2021-11-02T15:50:32.600048Z",
          "iopub.status.idle": "2021-11-02T15:50:34.697251Z",
          "shell.execute_reply": "2021-11-02T15:50:34.696671Z"
        },
        "id": "z682XYsrjkY9"
      },
      "outputs": [],
      "source": [
        "import numpy as np\n",
        "import pandas as pd\n",
        "import tensorflow_datasets as tfds\n",
        "import tensorflow as tf\n",
        "\n",
        "tfds.disable_progress_bar()"
      ]
    },
    {
      "cell_type": "markdown",
      "metadata": {
        "id": "1rXHa-w9JZhb"
      },
      "source": [
        "Import `matplotlib` and create a helper function to plot graphs:"
      ]
    },
    {
      "cell_type": "code",
      "execution_count": null,
      "metadata": {
        "execution": {
          "iopub.execute_input": "2021-11-02T15:50:34.702573Z",
          "iopub.status.busy": "2021-11-02T15:50:34.701983Z",
          "iopub.status.idle": "2021-11-02T15:50:34.934678Z",
          "shell.execute_reply": "2021-11-02T15:50:34.934132Z"
        },
        "id": "Mp1Z7P9pYRSK"
      },
      "outputs": [],
      "source": [
        "import matplotlib.pyplot as plt\n",
        "\n",
        "def plot_graphs(history, metric):\n",
        "  plt.plot(history.history[metric])\n",
        "  plt.plot(history.history['val_'+metric], '')\n",
        "  plt.xlabel(\"Epochs\")\n",
        "  plt.ylabel(metric)\n",
        "  plt.legend([metric, 'val_'+metric])"
      ]
    },
    {
      "cell_type": "markdown",
      "source": [
        "## Reading the input data file"
      ],
      "metadata": {
        "id": "LtI5VayGMNMr"
      }
    },
    {
      "cell_type": "code",
      "execution_count": null,
      "metadata": {
        "execution": {
          "iopub.execute_input": "2021-11-02T15:50:34.939647Z",
          "iopub.status.busy": "2021-11-02T15:50:34.939008Z",
          "iopub.status.idle": "2021-11-02T15:50:40.367522Z",
          "shell.execute_reply": "2021-11-02T15:50:40.367906Z"
        },
        "id": "SHRwRoP2nVHX"
      },
      "outputs": [],
      "source": [
        "df = pd.read_csv(\"train.csv\")\n",
        "# pd.read_csv(file_path, header=None, usecols=[3,6])\n",
        "df = df.drop([\"id\", \"keyword\",\"location\"], axis = 1)\n",
        "# df.columns = [] * len(df.columns)\n",
        "# df.to_csv('train.csv', header=False, index=False)\n",
        "# df = df.iloc[1: , :]\n",
        "# print(df.head(10))\n",
        "# target=df.pop(\"target\")\n",
        "# print(type(target))\n",
        "# print(target)\n",
        "dataset = tf.data.Dataset.from_tensor_slices(dict(df))\n",
        "\n",
        "# train_dataset, test_dataset = dataset['train'], dataset['test']\n",
        "# print(train_dataset.take(2))\n",
        "# for x in test_dataset.take(5):\n",
        "#   print(x)\n",
        "df.head()"
      ]
    },
    {
      "cell_type": "code",
      "source": [
        "dataset_list=[]\n",
        "for x in dataset.take(len(dataset)+1):\n",
        "  x=tuple(x.values())\n",
        "  dataset_list.append(x)"
      ],
      "metadata": {
        "id": "KZJWfzwu8AKJ"
      },
      "execution_count": null,
      "outputs": []
    },
    {
      "cell_type": "code",
      "source": [
        "l=[]\n",
        "m=[]\n",
        "for x,y in dataset_list:\n",
        "  l.append(x.numpy())\n",
        "  m.append(y.numpy())\n"
      ],
      "metadata": {
        "id": "lpjyAju88cGR"
      },
      "execution_count": null,
      "outputs": []
    },
    {
      "cell_type": "code",
      "source": [
        "dataset1= tf.data.Dataset.from_tensor_slices((l,m))"
      ],
      "metadata": {
        "id": "7YGa8XSd8DTJ"
      },
      "execution_count": null,
      "outputs": []
    },
    {
      "cell_type": "code",
      "source": [
        "train_dataset = dataset1.take(5710)\n",
        "test_dataset = dataset1.skip(5710)"
      ],
      "metadata": {
        "id": "88Jxttz6Ixmm"
      },
      "execution_count": null,
      "outputs": []
    },
    {
      "cell_type": "code",
      "source": [
        "print(len(dataset1))"
      ],
      "metadata": {
        "colab": {
          "base_uri": "https://localhost:8080/"
        },
        "id": "kHsmlGmXI0Mz",
        "outputId": "e53bba3e-f037-4e6f-fbed-330a44fe5265"
      },
      "execution_count": null,
      "outputs": [
        {
          "output_type": "stream",
          "name": "stdout",
          "text": [
            "7613\n"
          ]
        }
      ]
    },
    {
      "cell_type": "code",
      "source": [
        "for x in dataset1.take(5):\n",
        "  print(x)"
      ],
      "metadata": {
        "colab": {
          "base_uri": "https://localhost:8080/"
        },
        "id": "EVNhyZh48Bix",
        "outputId": "f4d2ca68-d262-4ea9-ead0-814848a1a647"
      },
      "execution_count": null,
      "outputs": [
        {
          "output_type": "stream",
          "name": "stdout",
          "text": [
            "(<tf.Tensor: shape=(), dtype=string, numpy=b'Our Deeds are the Reason of this #earthquake May ALLAH Forgive us all'>, <tf.Tensor: shape=(), dtype=int32, numpy=1>)\n",
            "(<tf.Tensor: shape=(), dtype=string, numpy=b'Forest fire near La Ronge Sask. Canada'>, <tf.Tensor: shape=(), dtype=int32, numpy=1>)\n",
            "(<tf.Tensor: shape=(), dtype=string, numpy=b\"All residents asked to 'shelter in place' are being notified by officers. No other evacuation or shelter in place orders are expected\">, <tf.Tensor: shape=(), dtype=int32, numpy=1>)\n",
            "(<tf.Tensor: shape=(), dtype=string, numpy=b'13,000 people receive #wildfires evacuation orders in California '>, <tf.Tensor: shape=(), dtype=int32, numpy=1>)\n",
            "(<tf.Tensor: shape=(), dtype=string, numpy=b'Just got sent this photo from Ruby #Alaska as smoke from #wildfires pours into a school '>, <tf.Tensor: shape=(), dtype=int32, numpy=1>)\n"
          ]
        }
      ]
    },
    {
      "cell_type": "markdown",
      "metadata": {
        "id": "nWA4c2ir7g6p"
      },
      "source": [
        "Initially this returns a dataset of (text, label pairs):"
      ]
    },
    {
      "cell_type": "code",
      "execution_count": null,
      "metadata": {
        "execution": {
          "iopub.execute_input": "2021-11-02T15:50:40.372803Z",
          "iopub.status.busy": "2021-11-02T15:50:40.372245Z",
          "iopub.status.idle": "2021-11-02T15:50:42.826608Z",
          "shell.execute_reply": "2021-11-02T15:50:42.827029Z"
        },
        "id": "vd4_BGKyurao",
        "colab": {
          "base_uri": "https://localhost:8080/"
        },
        "outputId": "533a57e5-6b58-4a9f-8a76-18dfa7e95f6d"
      },
      "outputs": [
        {
          "output_type": "stream",
          "name": "stdout",
          "text": [
            "text:  b'Our Deeds are the Reason of this #earthquake May ALLAH Forgive us all'\n",
            "label:  1\n"
          ]
        }
      ],
      "source": [
        "for example, label in train_dataset.take(1):\n",
        "  print('text: ', example.numpy())\n",
        "  print('label: ', label.numpy())"
      ]
    },
    {
      "cell_type": "markdown",
      "metadata": {
        "id": "z2qVJzcEluH_"
      },
      "source": [
        "Next shuffle the data for training and create batches of these `(text, label)` pairs:"
      ]
    },
    {
      "cell_type": "code",
      "execution_count": null,
      "metadata": {
        "execution": {
          "iopub.execute_input": "2021-11-02T15:50:42.831318Z",
          "iopub.status.busy": "2021-11-02T15:50:42.830698Z",
          "iopub.status.idle": "2021-11-02T15:50:42.832648Z",
          "shell.execute_reply": "2021-11-02T15:50:42.832975Z"
        },
        "id": "dDsCaZCDYZgm"
      },
      "outputs": [],
      "source": [
        "BUFFER_SIZE = 10000\n",
        "BATCH_SIZE = 64"
      ]
    },
    {
      "cell_type": "code",
      "execution_count": null,
      "metadata": {
        "execution": {
          "iopub.execute_input": "2021-11-02T15:50:42.837775Z",
          "iopub.status.busy": "2021-11-02T15:50:42.837138Z",
          "iopub.status.idle": "2021-11-02T15:50:42.841349Z",
          "shell.execute_reply": "2021-11-02T15:50:42.841706Z"
        },
        "id": "VznrltNOnUc5"
      },
      "outputs": [],
      "source": [
        "train_dataset = train_dataset.shuffle(BUFFER_SIZE).batch(BATCH_SIZE).prefetch(tf.data.AUTOTUNE)\n",
        "test_dataset = test_dataset.batch(BATCH_SIZE).prefetch(tf.data.AUTOTUNE)"
      ]
    },
    {
      "cell_type": "code",
      "execution_count": null,
      "metadata": {
        "execution": {
          "iopub.execute_input": "2021-11-02T15:50:42.846034Z",
          "iopub.status.busy": "2021-11-02T15:50:42.845470Z",
          "iopub.status.idle": "2021-11-02T15:50:45.126272Z",
          "shell.execute_reply": "2021-11-02T15:50:45.126652Z"
        },
        "id": "jqkvdcFv41wC",
        "colab": {
          "base_uri": "https://localhost:8080/"
        },
        "outputId": "a185e030-3e9d-4523-a8d1-03e7159b9bdf"
      },
      "outputs": [
        {
          "output_type": "stream",
          "name": "stdout",
          "text": [
            "texts:  [b'To fight bioterrorism sir.'\n",
            " b'I hope it rains throughout the whole weekend I hope it floods and the portaloos become sentient.'\n",
            " b'I had no issues uploading DEATH TO SMOOCHY or AWAKENINGS clips to @YouTube but for some reason BICENTENNIAL MAN is being a pain in the ass.']\n",
            "\n",
            "labels:  [0 0 0]\n"
          ]
        }
      ],
      "source": [
        "for example, label in train_dataset.take(1):\n",
        "  print('texts: ', example.numpy()[:3])\n",
        "  print()\n",
        "  print('labels: ', label.numpy()[:3])"
      ]
    },
    {
      "cell_type": "markdown",
      "metadata": {
        "id": "s5eWCo88voPY"
      },
      "source": [
        "## Create the text encoder"
      ]
    },
    {
      "cell_type": "markdown",
      "metadata": {
        "id": "TFevcItw15P_"
      },
      "source": [
        "The raw text loaded by `tfds` needs to be processed before it can be used in a model. The simplest way to process text for training is using the `TextVectorization` layer.\n",
        "\n",
        "Create the layer, and pass the dataset's text to the layer's `.adapt` method:"
      ]
    },
    {
      "cell_type": "code",
      "execution_count": null,
      "metadata": {
        "execution": {
          "iopub.execute_input": "2021-11-02T15:50:45.131867Z",
          "iopub.status.busy": "2021-11-02T15:50:45.131251Z",
          "iopub.status.idle": "2021-11-02T15:50:48.294934Z",
          "shell.execute_reply": "2021-11-02T15:50:48.295429Z"
        },
        "id": "uC25Lu1Yvuqy"
      },
      "outputs": [],
      "source": [
        "VOCAB_SIZE = 1000\n",
        "encoder = tf.keras.layers.TextVectorization(\n",
        "    max_tokens=VOCAB_SIZE)\n",
        "encoder.adapt(train_dataset.map(lambda text, label: text))"
      ]
    },
    {
      "cell_type": "markdown",
      "metadata": {
        "id": "IuQzVBbe3Ldu"
      },
      "source": [
        "The `.adapt` method sets the layer's vocabulary. Here are the first 20 tokens. After the padding and unknown tokens they're sorted by frequency:"
      ]
    },
    {
      "cell_type": "code",
      "execution_count": null,
      "metadata": {
        "execution": {
          "iopub.execute_input": "2021-11-02T15:50:48.299858Z",
          "iopub.status.busy": "2021-11-02T15:50:48.299279Z",
          "iopub.status.idle": "2021-11-02T15:50:48.305058Z",
          "shell.execute_reply": "2021-11-02T15:50:48.304619Z"
        },
        "id": "tBoyjjWg0Ac9",
        "colab": {
          "base_uri": "https://localhost:8080/"
        },
        "outputId": "bad07077-e3d6-4a15-c022-792d6fd94808"
      },
      "outputs": [
        {
          "output_type": "execute_result",
          "data": {
            "text/plain": [
              "array(['', '[UNK]', 'the', 'to', 'a', 'in', 'of', 'and', 'i', 'is', 'on',\n",
              "       'for', 'you', 'my', 'with', 'it', 'that', 'by', 'at', 'this'],\n",
              "      dtype='<U13')"
            ]
          },
          "metadata": {},
          "execution_count": 19
        }
      ],
      "source": [
        "vocab = np.array(encoder.get_vocabulary())\n",
        "vocab[:20]"
      ]
    },
    {
      "cell_type": "markdown",
      "metadata": {
        "id": "mjId5pua3jHQ"
      },
      "source": [
        "Once the vocabulary is set, the layer can encode text into indices. The tensors of indices are 0-padded to the longest sequence in the batch (unless you set a fixed `output_sequence_length`):"
      ]
    },
    {
      "cell_type": "code",
      "execution_count": null,
      "metadata": {
        "execution": {
          "iopub.execute_input": "2021-11-02T15:50:48.308818Z",
          "iopub.status.busy": "2021-11-02T15:50:48.308274Z",
          "iopub.status.idle": "2021-11-02T15:50:48.321984Z",
          "shell.execute_reply": "2021-11-02T15:50:48.322347Z"
        },
        "id": "RGc7C9WiwRWs",
        "colab": {
          "base_uri": "https://localhost:8080/"
        },
        "outputId": "c3ea600b-6987-4b4a-ff1c-3a65c8eb568f"
      },
      "outputs": [
        {
          "output_type": "execute_result",
          "data": {
            "text/plain": [
              "array([[  3, 698, 523,   1,   0,   0,   0,   0,   0,   0,   0,   0,   0,\n",
              "          0,   0,   0,   0,   0,   0,   0,   0,   0,   0,   0,   0,   0,\n",
              "          0],\n",
              "       [  8, 264,  15,   1,   1,   2, 514,   1,   8, 264,  15, 156,   7,\n",
              "          2,   1, 945,   1,   0,   0,   0,   0,   0,   0,   0,   0,   0,\n",
              "          0],\n",
              "       [  8,  85,  38, 520,   1, 135,   3,   1,  53,   1,   1,   3, 108,\n",
              "         32,  11, 103, 767,   1,  90,   9, 111,   4, 875,   5,   2, 249,\n",
              "          0]])"
            ]
          },
          "metadata": {},
          "execution_count": 20
        }
      ],
      "source": [
        "encoded_example = encoder(example)[:3].numpy()\n",
        "encoded_example"
      ]
    },
    {
      "cell_type": "markdown",
      "metadata": {
        "id": "F5cjz0bS39IN"
      },
      "source": [
        "With the default settings, the process is not completely reversible. There are three main reasons for that:\n",
        "\n",
        "1. The default value for `preprocessing.TextVectorization`'s `standardize` argument is `\"lower_and_strip_punctuation\"`.\n",
        "2. The limited vocabulary size and lack of character-based fallback results in some unknown tokens."
      ]
    },
    {
      "cell_type": "code",
      "execution_count": null,
      "metadata": {
        "execution": {
          "iopub.execute_input": "2021-11-02T15:50:48.327153Z",
          "iopub.status.busy": "2021-11-02T15:50:48.326376Z",
          "iopub.status.idle": "2021-11-02T15:50:48.332236Z",
          "shell.execute_reply": "2021-11-02T15:50:48.331662Z"
        },
        "id": "N_tD0QY5wXaK",
        "colab": {
          "base_uri": "https://localhost:8080/"
        },
        "outputId": "06580f07-fa93-4eef-9193-7782a4d62c65"
      },
      "outputs": [
        {
          "output_type": "stream",
          "name": "stdout",
          "text": [
            "Original:  b'To fight bioterrorism sir.'\n",
            "Round-trip:  to fight bioterrorism [UNK]                       \n",
            "\n",
            "Original:  b'I hope it rains throughout the whole weekend I hope it floods and the portaloos become sentient.'\n",
            "Round-trip:  i hope it [UNK] [UNK] the whole [UNK] i hope it floods and the [UNK] become [UNK]          \n",
            "\n",
            "Original:  b'I had no issues uploading DEATH TO SMOOCHY or AWAKENINGS clips to @YouTube but for some reason BICENTENNIAL MAN is being a pain in the ass.'\n",
            "Round-trip:  i had no issues [UNK] death to [UNK] or [UNK] [UNK] to youtube but for some reason [UNK] man is being a pain in the ass \n",
            "\n"
          ]
        }
      ],
      "source": [
        "for n in range(3):\n",
        "  print(\"Original: \", example[n].numpy())\n",
        "  print(\"Round-trip: \", \" \".join(vocab[encoded_example[n]]))\n",
        "  print()"
      ]
    },
    {
      "cell_type": "markdown",
      "metadata": {
        "id": "bjUqGVBxGw-t"
      },
      "source": [
        "## Create the model"
      ]
    },
    {
      "cell_type": "markdown",
      "metadata": {
        "id": "W7zsmInBOCPO"
      },
      "source": [
        "![A drawing of the information flow in the model](images/bidirectional.png)"
      ]
    },
    {
      "cell_type": "markdown",
      "metadata": {
        "id": "bgs6nnSTGw-t"
      },
      "source": [
        "Above is a diagram of the model.\n",
        "\n",
        "1. This model can be build as a `tf.keras.Sequential`.\n",
        "\n",
        "2. The first layer is the `encoder`, which converts the text to a sequence of token indices.\n",
        "\n",
        "3. After the encoder is an embedding layer. An embedding layer stores one vector per word. When called, it converts the sequences of word indices to sequences of vectors. These vectors are trainable. After training (on enough data), words with similar meanings often have similar vectors.\n",
        "\n",
        "  This index-lookup is much more efficient than the equivalent operation of passing a one-hot encoded vector through a `tf.keras.layers.Dense` layer.\n",
        "\n",
        "4. A recurrent neural network (RNN) processes sequence input by iterating through the elements. RNNs pass the outputs from one timestep to their input on the next timestep.\n",
        "\n",
        "  The `tf.keras.layers.Bidirectional` wrapper can also be used with an RNN layer. This propagates the input forward and backwards through the RNN layer and then concatenates the final output.\n",
        "\n",
        "  * The main advantage of a bidirectional RNN is that the signal from the beginning of the input doesn't need to be processed all the way through every timestep to affect the output.  \n",
        "\n",
        "  * The main disadvantage of a bidirectional RNN is that you can't efficiently stream predictions as words are being added to the end.\n",
        "\n",
        "5. After the RNN has converted the sequence to a single vector the two `layers.Dense` do some final processing, and convert from this vector representation to a single logit as the classification output.\n"
      ]
    },
    {
      "cell_type": "markdown",
      "metadata": {
        "id": "V4fodCI7soQi"
      },
      "source": [
        "The code to implement this is below:"
      ]
    },
    {
      "cell_type": "code",
      "execution_count": null,
      "metadata": {
        "execution": {
          "iopub.execute_input": "2021-11-02T15:50:48.337515Z",
          "iopub.status.busy": "2021-11-02T15:50:48.336851Z",
          "iopub.status.idle": "2021-11-02T15:50:49.682810Z",
          "shell.execute_reply": "2021-11-02T15:50:49.682208Z"
        },
        "id": "LwfoBkmRYcP3"
      },
      "outputs": [],
      "source": [
        "model = tf.keras.Sequential([\n",
        "    encoder,\n",
        "    tf.keras.layers.Embedding(\n",
        "        input_dim=len(encoder.get_vocabulary()),\n",
        "        output_dim=64,\n",
        "        # Use masking to handle the variable sequence lengths\n",
        "        mask_zero=True),\n",
        "    tf.keras.layers.Bidirectional(tf.keras.layers.LSTM(64)),\n",
        "    tf.keras.layers.Dense(64, activation='relu'),\n",
        "    tf.keras.layers.Dense(1)\n",
        "])"
      ]
    },
    {
      "cell_type": "code",
      "execution_count": null,
      "metadata": {
        "execution": {
          "iopub.execute_input": "2021-11-02T15:50:49.688412Z",
          "iopub.status.busy": "2021-11-02T15:50:49.687680Z",
          "iopub.status.idle": "2021-11-02T15:50:49.690180Z",
          "shell.execute_reply": "2021-11-02T15:50:49.690575Z"
        },
        "id": "87a8-CwfKebw",
        "colab": {
          "base_uri": "https://localhost:8080/"
        },
        "outputId": "b35dbef9-0002-4c55-f9a6-dfbce8dc8e7a"
      },
      "outputs": [
        {
          "output_type": "stream",
          "name": "stdout",
          "text": [
            "[False, True, True, True, True]\n"
          ]
        }
      ],
      "source": [
        "print([layer.supports_masking for layer in model.layers])"
      ]
    },
    {
      "cell_type": "markdown",
      "metadata": {
        "id": "ZlS0iaUIWLpI"
      },
      "source": [
        "To confirm that this works as expected, evaluate a sentence twice. First, alone so there's no padding to mask:"
      ]
    },
    {
      "cell_type": "code",
      "execution_count": null,
      "metadata": {
        "execution": {
          "iopub.execute_input": "2021-11-02T15:50:49.695532Z",
          "iopub.status.busy": "2021-11-02T15:50:49.694953Z",
          "iopub.status.idle": "2021-11-02T15:50:52.508631Z",
          "shell.execute_reply": "2021-11-02T15:50:52.509017Z"
        },
        "id": "O41gw3KfWHus",
        "colab": {
          "base_uri": "https://localhost:8080/"
        },
        "outputId": "cb6badb5-32fe-4557-a6e2-bb6c098a488a"
      },
      "outputs": [
        {
          "output_type": "stream",
          "name": "stdout",
          "text": [
            "[0.00633043]\n"
          ]
        }
      ],
      "source": [
        "# predict on a sample text without padding.\n",
        "\n",
        "sample_text = ('Police investigating after an e-bike collided with a car in Little Portugal. E-bike rider suffered serious non-life threatening injuries.')\n",
        "predictions = model.predict(np.array([sample_text]))\n",
        "print(predictions[0])"
      ]
    },
    {
      "cell_type": "markdown",
      "metadata": {
        "id": "K0VQmGnEWcuz"
      },
      "source": [
        "Now, evaluate it again in a batch with a longer sentence. The result should be identical:"
      ]
    },
    {
      "cell_type": "code",
      "execution_count": null,
      "metadata": {
        "execution": {
          "iopub.execute_input": "2021-11-02T15:50:52.515111Z",
          "iopub.status.busy": "2021-11-02T15:50:52.514457Z",
          "iopub.status.idle": "2021-11-02T15:50:52.658235Z",
          "shell.execute_reply": "2021-11-02T15:50:52.658691Z"
        },
        "id": "UIgpuTeFNDzq",
        "colab": {
          "base_uri": "https://localhost:8080/"
        },
        "outputId": "1506e441-6223-4c94-d651-a28ef8a3b1a5"
      },
      "outputs": [
        {
          "output_type": "stream",
          "name": "stdout",
          "text": [
            "[0.00633043]\n"
          ]
        }
      ],
      "source": [
        "# predict on a sample text with padding\n",
        "\n",
        "padding = \"the \" * 2000\n",
        "predictions = model.predict(np.array([sample_text, padding]))\n",
        "print(predictions[0])"
      ]
    },
    {
      "cell_type": "markdown",
      "metadata": {
        "id": "sRI776ZcH3Tf"
      },
      "source": [
        "Compile the Keras model to configure the training process:"
      ]
    },
    {
      "cell_type": "code",
      "execution_count": null,
      "metadata": {
        "execution": {
          "iopub.execute_input": "2021-11-02T15:50:52.795749Z",
          "iopub.status.busy": "2021-11-02T15:50:52.794994Z",
          "iopub.status.idle": "2021-11-02T15:50:52.860291Z",
          "shell.execute_reply": "2021-11-02T15:50:52.860662Z"
        },
        "id": "kj2xei41YZjC"
      },
      "outputs": [],
      "source": [
        "model.compile(loss=tf.keras.losses.BinaryCrossentropy(from_logits=True),\n",
        "              optimizer=tf.keras.optimizers.Adam(1e-4),\n",
        "              metrics=['accuracy'])"
      ]
    },
    {
      "cell_type": "markdown",
      "metadata": {
        "id": "zIwH3nto596k"
      },
      "source": [
        "## Train the model"
      ]
    },
    {
      "cell_type": "code",
      "execution_count": null,
      "metadata": {
        "execution": {
          "iopub.execute_input": "2021-11-02T15:50:52.865748Z",
          "iopub.status.busy": "2021-11-02T15:50:52.865047Z",
          "iopub.status.idle": "2021-11-02T15:56:08.899338Z",
          "shell.execute_reply": "2021-11-02T15:56:08.899791Z"
        },
        "id": "hw86wWS4YgR2",
        "colab": {
          "base_uri": "https://localhost:8080/"
        },
        "outputId": "ce675b3d-c8cf-4f1a-cd95-737ebad3319b"
      },
      "outputs": [
        {
          "output_type": "stream",
          "name": "stdout",
          "text": [
            "Epoch 1/10\n",
            "90/90 [==============================] - 17s 67ms/step - loss: 0.6875 - accuracy: 0.5772 - val_loss: 0.6903 - val_accuracy: 0.5497\n",
            "Epoch 2/10\n",
            "90/90 [==============================] - 3s 33ms/step - loss: 0.6720 - accuracy: 0.5772 - val_loss: 0.6800 - val_accuracy: 0.5497\n",
            "Epoch 3/10\n",
            "90/90 [==============================] - 3s 33ms/step - loss: 0.5954 - accuracy: 0.6342 - val_loss: 0.5732 - val_accuracy: 0.6752\n",
            "Epoch 4/10\n",
            "90/90 [==============================] - 3s 33ms/step - loss: 0.5008 - accuracy: 0.7618 - val_loss: 0.5652 - val_accuracy: 0.6742\n",
            "Epoch 5/10\n",
            "90/90 [==============================] - 3s 33ms/step - loss: 0.4597 - accuracy: 0.7862 - val_loss: 0.5376 - val_accuracy: 0.6994\n",
            "Epoch 6/10\n",
            "90/90 [==============================] - 3s 34ms/step - loss: 0.4367 - accuracy: 0.8025 - val_loss: 0.5959 - val_accuracy: 0.6810\n",
            "Epoch 7/10\n",
            "90/90 [==============================] - 3s 34ms/step - loss: 0.4134 - accuracy: 0.8144 - val_loss: 0.5308 - val_accuracy: 0.7168\n",
            "Epoch 8/10\n",
            "90/90 [==============================] - 3s 33ms/step - loss: 0.4000 - accuracy: 0.8177 - val_loss: 0.5306 - val_accuracy: 0.7341\n",
            "Epoch 9/10\n",
            "90/90 [==============================] - 3s 33ms/step - loss: 0.3878 - accuracy: 0.8259 - val_loss: 0.5621 - val_accuracy: 0.7052\n",
            "Epoch 10/10\n",
            "90/90 [==============================] - 3s 33ms/step - loss: 0.3778 - accuracy: 0.8329 - val_loss: 0.5414 - val_accuracy: 0.7194\n"
          ]
        }
      ],
      "source": [
        "history = model.fit(train_dataset, epochs=30,\n",
        "                    validation_data=test_dataset,\n",
        "                    validation_steps=30)"
      ]
    },
    {
      "cell_type": "code",
      "execution_count": null,
      "metadata": {
        "execution": {
          "iopub.execute_input": "2021-11-02T15:56:08.905181Z",
          "iopub.status.busy": "2021-11-02T15:56:08.904477Z",
          "iopub.status.idle": "2021-11-02T15:56:24.266040Z",
          "shell.execute_reply": "2021-11-02T15:56:24.266501Z"
        },
        "id": "BaNbXi43YgUT",
        "colab": {
          "base_uri": "https://localhost:8080/"
        },
        "outputId": "32b2f398-b37a-4826-b432-2a626e9d84c2"
      },
      "outputs": [
        {
          "output_type": "stream",
          "name": "stdout",
          "text": [
            "30/30 [==============================] - 0s 11ms/step - loss: 0.5414 - accuracy: 0.7194\n",
            "Test Loss: 0.5413621068000793\n",
            "Test Accuracy: 0.7193904519081116\n"
          ]
        }
      ],
      "source": [
        "test_loss, test_acc = model.evaluate(test_dataset)\n",
        "\n",
        "print('Test Loss:', test_loss)\n",
        "print('Test Accuracy:', test_acc)"
      ]
    },
    {
      "cell_type": "code",
      "execution_count": null,
      "metadata": {
        "execution": {
          "iopub.execute_input": "2021-11-02T15:56:24.308793Z",
          "iopub.status.busy": "2021-11-02T15:56:24.286044Z",
          "iopub.status.idle": "2021-11-02T15:56:24.534404Z",
          "shell.execute_reply": "2021-11-02T15:56:24.534886Z"
        },
        "id": "OZmwt_mzaQJk",
        "colab": {
          "base_uri": "https://localhost:8080/",
          "height": 519
        },
        "outputId": "5c635ff2-552b-4b08-a943-c8b3af7d8bf9"
      },
      "outputs": [
        {
          "output_type": "execute_result",
          "data": {
            "text/plain": [
              "(0.0, 0.7059419617056847)"
            ]
          },
          "metadata": {},
          "execution_count": 30
        },
        {
          "output_type": "display_data",
          "data": {
            "image/png": "[encoded data removed]",
            "text/plain": [
              "<Figure size 1152x576 with 2 Axes>"
            ]
          },
          "metadata": {
            "needs_background": "light"
          }
        }
      ],
      "source": [
        "plt.figure(figsize=(16, 8))\n",
        "plt.subplot(1, 2, 1)\n",
        "plot_graphs(history, 'accuracy')\n",
        "plt.ylim(None, 1)\n",
        "plt.subplot(1, 2, 2)\n",
        "plot_graphs(history, 'loss')\n",
        "plt.ylim(0, None)"
      ]
    },
    {
      "cell_type": "markdown",
      "metadata": {
        "id": "DwSE_386uhxD"
      },
      "source": [
        "Run a prediction on a new sentence:\n",
        "\n",
        "If the prediction is >= 0.0, it is real disaster tweet else it is a fake one."
      ]
    },
    {
      "cell_type": "code",
      "execution_count": null,
      "metadata": {
        "execution": {
          "iopub.execute_input": "2021-11-02T15:56:24.540123Z",
          "iopub.status.busy": "2021-11-02T15:56:24.539499Z",
          "iopub.status.idle": "2021-11-02T15:56:26.502611Z",
          "shell.execute_reply": "2021-11-02T15:56:26.502044Z"
        },
        "id": "ZXgfQSgRW6zU"
      },
      "outputs": [],
      "source": [
        "sample_text = ('Earthquake')\n",
        "predictions = model.predict(np.array([sample_text]))"
      ]
    },
    {
      "cell_type": "code",
      "source": [
        "if predictions>=0.0 :\n",
        "  print(\"Its a Real Disaster Tweet\")\n",
        "else:\n",
        "  print(\"Its a Fake Disaster Tweet\")"
      ],
      "metadata": {
        "colab": {
          "base_uri": "https://localhost:8080/"
        },
        "id": "5HthRkcEJyr7",
        "outputId": "d99783b1-66a8-48fb-a14a-21b37ecf7810"
      },
      "execution_count": null,
      "outputs": [
        {
          "output_type": "stream",
          "name": "stdout",
          "text": [
            "Its a Real Disaster Tweet\n"
          ]
        }
      ]
    },
    {
      "cell_type": "markdown",
      "metadata": {
        "id": "7g1evcaRpTKm"
      },
      "source": [
        "## Stack two or more LSTM layers\n",
        "\n",
        "Keras recurrent layers have two available modes that are controlled by the `return_sequences` constructor argument:\n",
        "\n",
        "* If `False` it returns only the last output for each input sequence (a 2D tensor of shape (batch_size, output_features)). This is the default, used in the previous model.\n",
        "\n",
        "* If `True` the full sequences of successive outputs for each timestep is returned (a 3D tensor of shape `(batch_size, timesteps, output_features)`).\n",
        "\n",
        "Here is what the flow of information looks like with `return_sequences=True`:\n",
        "\n",
        "![layered_bidirectional](images/layered_bidirectional.png)"
      ]
    },
    {
      "cell_type": "markdown",
      "metadata": {
        "id": "wbSClCrG1z8l"
      },
      "source": [
        "The interesting thing about using an `RNN` with `return_sequences=True` is that the output still has 3-axes, like the input, so it can be passed to another RNN layer, like this:"
      ]
    },
    {
      "cell_type": "code",
      "execution_count": null,
      "metadata": {
        "execution": {
          "iopub.execute_input": "2021-11-02T15:56:26.509313Z",
          "iopub.status.busy": "2021-11-02T15:56:26.508536Z",
          "iopub.status.idle": "2021-11-02T15:56:29.643331Z",
          "shell.execute_reply": "2021-11-02T15:56:29.642665Z"
        },
        "id": "jo1jjO3vn0jo"
      },
      "outputs": [],
      "source": [
        "model = tf.keras.Sequential([\n",
        "    encoder,\n",
        "    tf.keras.layers.Embedding(len(encoder.get_vocabulary()), 64, mask_zero=True),\n",
        "    tf.keras.layers.Bidirectional(tf.keras.layers.LSTM(64,  return_sequences=True)),\n",
        "    tf.keras.layers.Bidirectional(tf.keras.layers.LSTM(32)),\n",
        "    tf.keras.layers.Dense(64, activation='relu'),\n",
        "    tf.keras.layers.Dropout(0.5),\n",
        "    tf.keras.layers.Dense(1)\n",
        "])"
      ]
    },
    {
      "cell_type": "code",
      "execution_count": null,
      "metadata": {
        "execution": {
          "iopub.execute_input": "2021-11-02T15:56:29.647221Z",
          "iopub.status.busy": "2021-11-02T15:56:29.646587Z",
          "iopub.status.idle": "2021-11-02T15:56:29.653319Z",
          "shell.execute_reply": "2021-11-02T15:56:29.653676Z"
        },
        "id": "hEPV5jVGp-is"
      },
      "outputs": [],
      "source": [
        "model.compile(loss=tf.keras.losses.BinaryCrossentropy(from_logits=True),\n",
        "              optimizer=tf.keras.optimizers.Adam(1e-4),\n",
        "              metrics=['accuracy'])"
      ]
    },
    {
      "cell_type": "code",
      "execution_count": null,
      "metadata": {
        "execution": {
          "iopub.execute_input": "2021-11-02T15:56:29.658306Z",
          "iopub.status.busy": "2021-11-02T15:56:29.657641Z",
          "iopub.status.idle": "2021-11-02T16:05:39.623362Z",
          "shell.execute_reply": "2021-11-02T16:05:39.622731Z"
        },
        "id": "LeSE-YjdqAeN",
        "colab": {
          "base_uri": "https://localhost:8080/"
        },
        "outputId": "aa3107b5-ba0c-4033-ae96-452adf49dc28"
      },
      "outputs": [
        {
          "output_type": "stream",
          "name": "stdout",
          "text": [
            "Epoch 1/10\n",
            "90/90 [==============================] - 30s 132ms/step - loss: 0.6859 - accuracy: 0.5772 - val_loss: 0.6902 - val_accuracy: 0.5497\n",
            "Epoch 2/10\n",
            "90/90 [==============================] - 5s 54ms/step - loss: 0.6679 - accuracy: 0.5772 - val_loss: 0.6646 - val_accuracy: 0.5497\n",
            "Epoch 3/10\n",
            "90/90 [==============================] - 5s 55ms/step - loss: 0.6005 - accuracy: 0.5848 - val_loss: 0.5875 - val_accuracy: 0.5933\n",
            "Epoch 4/10\n",
            "90/90 [==============================] - 5s 55ms/step - loss: 0.5006 - accuracy: 0.7494 - val_loss: 0.5461 - val_accuracy: 0.6910\n",
            "Epoch 5/10\n",
            "90/90 [==============================] - 5s 56ms/step - loss: 0.4504 - accuracy: 0.7988 - val_loss: 0.5309 - val_accuracy: 0.7204\n",
            "Epoch 6/10\n",
            "90/90 [==============================] - 5s 54ms/step - loss: 0.4277 - accuracy: 0.8145 - val_loss: 0.5255 - val_accuracy: 0.7378\n",
            "Epoch 7/10\n",
            "90/90 [==============================] - 5s 54ms/step - loss: 0.4073 - accuracy: 0.8263 - val_loss: 0.5320 - val_accuracy: 0.7336\n",
            "Epoch 8/10\n",
            "90/90 [==============================] - 5s 54ms/step - loss: 0.3940 - accuracy: 0.8301 - val_loss: 0.5391 - val_accuracy: 0.7320\n",
            "Epoch 9/10\n",
            "90/90 [==============================] - 5s 55ms/step - loss: 0.3819 - accuracy: 0.8389 - val_loss: 0.5342 - val_accuracy: 0.7394\n",
            "Epoch 10/10\n",
            "90/90 [==============================] - 5s 54ms/step - loss: 0.3758 - accuracy: 0.8385 - val_loss: 0.5389 - val_accuracy: 0.7310\n"
          ]
        }
      ],
      "source": [
        "history = model.fit(train_dataset, epochs=10,\n",
        "                    validation_data=test_dataset,\n",
        "                    validation_steps=30)"
      ]
    },
    {
      "cell_type": "code",
      "execution_count": null,
      "metadata": {
        "execution": {
          "iopub.execute_input": "2021-11-02T16:05:39.628681Z",
          "iopub.status.busy": "2021-11-02T16:05:39.627978Z",
          "iopub.status.idle": "2021-11-02T16:06:05.529389Z",
          "shell.execute_reply": "2021-11-02T16:06:05.528860Z"
        },
        "id": "_LdwilM1qPM3",
        "colab": {
          "base_uri": "https://localhost:8080/"
        },
        "outputId": "05094919-70c3-4a1c-b73f-597655533c7d"
      },
      "outputs": [
        {
          "output_type": "stream",
          "name": "stdout",
          "text": [
            "30/30 [==============================] - 1s 26ms/step - loss: 0.5389 - accuracy: 0.7310\n",
            "Test Loss: 0.538948655128479\n",
            "Test Accuracy: 0.7309511303901672\n"
          ]
        }
      ],
      "source": [
        "test_loss, test_acc = model.evaluate(test_dataset)\n",
        "\n",
        "print('Test Loss:', test_loss)\n",
        "print('Test Accuracy:', test_acc)"
      ]
    },
    {
      "cell_type": "code",
      "execution_count": null,
      "metadata": {
        "execution": {
          "iopub.execute_input": "2021-11-02T16:06:05.533990Z",
          "iopub.status.busy": "2021-11-02T16:06:05.533409Z",
          "iopub.status.idle": "2021-11-02T16:06:09.200328Z",
          "shell.execute_reply": "2021-11-02T16:06:09.199826Z"
        },
        "id": "ykUKnAoqbycW"
      },
      "outputs": [],
      "source": [
        "# predict on a sample text without padding.\n",
        "\n",
        "sample_text = ('Im a gangsta')\n",
        "predictions = model.predict(np.array([sample_text]))"
      ]
    },
    {
      "cell_type": "code",
      "source": [
        "if predictions>=0.0 :\n",
        "  print(\"Its a Real Disaster Tweet\")\n",
        "else:\n",
        "  print(\"Its a Fake Disaster Tweet\")"
      ],
      "metadata": {
        "colab": {
          "base_uri": "https://localhost:8080/"
        },
        "id": "RfxD9fZ1K3fr",
        "outputId": "7ec8ccd5-8a55-476b-c543-28f2d1d67e35"
      },
      "execution_count": null,
      "outputs": [
        {
          "output_type": "stream",
          "name": "stdout",
          "text": [
            "Its a Fake Disaster Tweet\n"
          ]
        }
      ]
    },
    {
      "cell_type": "code",
      "execution_count": null,
      "metadata": {
        "execution": {
          "iopub.execute_input": "2021-11-02T16:06:09.257308Z",
          "iopub.status.busy": "2021-11-02T16:06:09.244756Z",
          "iopub.status.idle": "2021-11-02T16:06:09.481357Z",
          "shell.execute_reply": "2021-11-02T16:06:09.480751Z"
        },
        "id": "_YYub0EDtwCu",
        "colab": {
          "base_uri": "https://localhost:8080/",
          "height": 389
        },
        "outputId": "567d10f9-760e-4fcf-f733-0ef2934b565e"
      },
      "outputs": [
        {
          "output_type": "display_data",
          "data": {
            "image/png": "[encoded data removed]",
            "text/plain": [
              "<Figure size 1152x432 with 2 Axes>"
            ]
          },
          "metadata": {
            "needs_background": "light"
          }
        }
      ],
      "source": [
        "plt.figure(figsize=(16, 6))\n",
        "plt.subplot(1, 2, 1)\n",
        "plot_graphs(history, 'accuracy')\n",
        "plt.subplot(1, 2, 2)\n",
        "plot_graphs(history, 'loss')"
      ]
    }
  ],
  "metadata": {
    "accelerator": "GPU",
    "colab": {
      "provenance": []
    },
    "kernelspec": {
      "display_name": "Python 3",
      "name": "python3"
    },
    "language_info": {
      "codemirror_mode": {
        "name": "ipython",
        "version": 3
      },
      "file_extension": ".py",
      "mimetype": "text/x-python",
      "name": "python",
      "nbconvert_exporter": "python",
      "pygments_lexer": "ipython3",
      "version": "3.7.5"
    }
  },
  "nbformat": 4,
  "nbformat_minor": 0
}